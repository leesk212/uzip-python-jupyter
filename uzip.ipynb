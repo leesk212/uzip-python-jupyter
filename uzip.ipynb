{
 "cells": [
  {
   "cell_type": "code",
   "execution_count": 12,
   "id": "41cc2c1a",
   "metadata": {},
   "outputs": [
    {
     "ename": "ReadError",
     "evalue": "./train_dataset-001.zip is not a zip file",
     "output_type": "error",
     "traceback": [
      "\u001b[0;31m---------------------------------------------------------------------------\u001b[0m",
      "\u001b[0;31mReadError\u001b[0m                                 Traceback (most recent call last)",
      "Input \u001b[0;32mIn [12]\u001b[0m, in \u001b[0;36m<cell line: 7>\u001b[0;34m()\u001b[0m\n\u001b[1;32m      4\u001b[0m extract_dir \u001b[38;5;241m=\u001b[39m \u001b[38;5;124m'\u001b[39m\u001b[38;5;124m./train_dataset\u001b[39m\u001b[38;5;124m'\u001b[39m\n\u001b[1;32m      5\u001b[0m archive_format \u001b[38;5;241m=\u001b[39m \u001b[38;5;124m\"\u001b[39m\u001b[38;5;124mzip\u001b[39m\u001b[38;5;124m\"\u001b[39m\n\u001b[0;32m----> 7\u001b[0m \u001b[43mshutil\u001b[49m\u001b[38;5;241;43m.\u001b[39;49m\u001b[43munpack_archive\u001b[49m\u001b[43m(\u001b[49m\u001b[43mfilename\u001b[49m\u001b[43m,\u001b[49m\u001b[43mextract_dir\u001b[49m\u001b[43m,\u001b[49m\u001b[43marchive_format\u001b[49m\u001b[43m)\u001b[49m\n",
      "File \u001b[0;32m~/anaconda3/envs/tensorflow/lib/python3.8/shutil.py:1208\u001b[0m, in \u001b[0;36munpack_archive\u001b[0;34m(filename, extract_dir, format)\u001b[0m\n\u001b[1;32m   1205\u001b[0m         \u001b[38;5;28;01mraise\u001b[39;00m \u001b[38;5;167;01mValueError\u001b[39;00m(\u001b[38;5;124m\"\u001b[39m\u001b[38;5;124mUnknown unpack format \u001b[39m\u001b[38;5;124m'\u001b[39m\u001b[38;5;132;01m{0}\u001b[39;00m\u001b[38;5;124m'\u001b[39m\u001b[38;5;124m\"\u001b[39m\u001b[38;5;241m.\u001b[39mformat(\u001b[38;5;28mformat\u001b[39m)) \u001b[38;5;28;01mfrom\u001b[39;00m \u001b[38;5;28mNone\u001b[39m\n\u001b[1;32m   1207\u001b[0m     func \u001b[38;5;241m=\u001b[39m format_info[\u001b[38;5;241m1\u001b[39m]\n\u001b[0;32m-> 1208\u001b[0m     \u001b[43mfunc\u001b[49m\u001b[43m(\u001b[49m\u001b[43mfilename\u001b[49m\u001b[43m,\u001b[49m\u001b[43m \u001b[49m\u001b[43mextract_dir\u001b[49m\u001b[43m,\u001b[49m\u001b[43m \u001b[49m\u001b[38;5;241;43m*\u001b[39;49m\u001b[38;5;241;43m*\u001b[39;49m\u001b[38;5;28;43mdict\u001b[39;49m\u001b[43m(\u001b[49m\u001b[43mformat_info\u001b[49m\u001b[43m[\u001b[49m\u001b[38;5;241;43m2\u001b[39;49m\u001b[43m]\u001b[49m\u001b[43m)\u001b[49m\u001b[43m)\u001b[49m\n\u001b[1;32m   1209\u001b[0m \u001b[38;5;28;01melse\u001b[39;00m:\n\u001b[1;32m   1210\u001b[0m     \u001b[38;5;66;03m# we need to look at the registered unpackers supported extensions\u001b[39;00m\n\u001b[1;32m   1211\u001b[0m     \u001b[38;5;28mformat\u001b[39m \u001b[38;5;241m=\u001b[39m _find_unpack_format(filename)\n",
      "File \u001b[0;32m~/anaconda3/envs/tensorflow/lib/python3.8/shutil.py:1114\u001b[0m, in \u001b[0;36m_unpack_zipfile\u001b[0;34m(filename, extract_dir)\u001b[0m\n\u001b[1;32m   1111\u001b[0m \u001b[38;5;28;01mimport\u001b[39;00m \u001b[38;5;21;01mzipfile\u001b[39;00m  \u001b[38;5;66;03m# late import for breaking circular dependency\u001b[39;00m\n\u001b[1;32m   1113\u001b[0m \u001b[38;5;28;01mif\u001b[39;00m \u001b[38;5;129;01mnot\u001b[39;00m zipfile\u001b[38;5;241m.\u001b[39mis_zipfile(filename):\n\u001b[0;32m-> 1114\u001b[0m     \u001b[38;5;28;01mraise\u001b[39;00m ReadError(\u001b[38;5;124m\"\u001b[39m\u001b[38;5;132;01m%s\u001b[39;00m\u001b[38;5;124m is not a zip file\u001b[39m\u001b[38;5;124m\"\u001b[39m \u001b[38;5;241m%\u001b[39m filename)\n\u001b[1;32m   1116\u001b[0m \u001b[38;5;28mzip\u001b[39m \u001b[38;5;241m=\u001b[39m zipfile\u001b[38;5;241m.\u001b[39mZipFile(filename)\n\u001b[1;32m   1117\u001b[0m \u001b[38;5;28;01mtry\u001b[39;00m:\n",
      "\u001b[0;31mReadError\u001b[0m: ./train_dataset-001.zip is not a zip file"
     ]
    }
   ],
   "source": [
    "import shutil\n",
    "\n",
    "filename='./train_dataset-001.zip'\n",
    "extract_dir = './train_dataset'\n",
    "archive_format = \"zip\"\n",
    "\n",
    "shutil.unpack_archive(filename,extract_dir,archive_format)"
   ]
  },
  {
   "cell_type": "code",
   "execution_count": 9,
   "id": "6b00c6ca",
   "metadata": {},
   "outputs": [
    {
     "name": "stdout",
     "output_type": "stream",
     "text": [
      "Requirement already satisfied: tqdm in /home/csl/anaconda3/envs/tensorflow/lib/python3.8/site-packages (4.64.1)\n",
      "Collecting zipfile36\n",
      "  Downloading zipfile36-0.1.3-py3-none-any.whl (20 kB)\n",
      "Installing collected packages: zipfile36\n",
      "Successfully installed zipfile36-0.1.3\n"
     ]
    }
   ],
   "source": [
    "!pip install tqdm\n",
    "!pip install zipfile36"
   ]
  },
  {
   "cell_type": "code",
   "execution_count": null,
   "id": "35d7b60f",
   "metadata": {},
   "outputs": [
    {
     "name": "stderr",
     "output_type": "stream",
     "text": [
      "Extracting :  98%|███████████████████████████████████████▏| 17834/18205 [01:03<00:01, 318.65it/s]"
     ]
    }
   ],
   "source": [
    "some_source = './train_dataset-001.zip'\n",
    "target_path = './train_dataset'\n",
    "\n",
    "from tqdm import tqdm\n",
    "import zipfile\n",
    "with zipfile.ZipFile(some_source) as zf:\n",
    "    for member in tqdm(zf.infolist(), desc='Extracting '):\n",
    "        try:\n",
    "            zf.extract(member, target_path)\n",
    "        except zipfile.error as e:\n",
    "            pass"
   ]
  },
  {
   "cell_type": "code",
   "execution_count": null,
   "id": "e7b7df56",
   "metadata": {},
   "outputs": [],
   "source": []
  }
 ],
 "metadata": {
  "kernelspec": {
   "display_name": "tensorflow",
   "language": "python",
   "name": "tensorflow"
  },
  "language_info": {
   "codemirror_mode": {
    "name": "ipython",
    "version": 3
   },
   "file_extension": ".py",
   "mimetype": "text/x-python",
   "name": "python",
   "nbconvert_exporter": "python",
   "pygments_lexer": "ipython3",
   "version": "3.8.0"
  }
 },
 "nbformat": 4,
 "nbformat_minor": 5
}
